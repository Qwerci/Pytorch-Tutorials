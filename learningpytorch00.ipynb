{
  "nbformat": 4,
  "nbformat_minor": 0,
  "metadata": {
    "colab": {
      "name": "learningpytorch00.ipynb",
      "provenance": [],
      "authorship_tag": "ABX9TyMhV3iOfu8chB6cmLZfyH0T",
      "include_colab_link": true
    },
    "kernelspec": {
      "name": "python3",
      "display_name": "Python 3"
    },
    "language_info": {
      "name": "python"
    },
    "gpuClass": "standard"
  },
  "cells": [
    {
      "cell_type": "markdown",
      "metadata": {
        "id": "view-in-github",
        "colab_type": "text"
      },
      "source": [
        "<a href=\"https://colab.research.google.com/github/Qwerci/Pytorch-Tutorials/blob/main/learningpytorch00.ipynb\" target=\"_parent\"><img src=\"https://colab.research.google.com/assets/colab-badge.svg\" alt=\"Open In Colab\"/></a>"
      ]
    },
    {
      "cell_type": "markdown",
      "source": [
        "#Pytorch Fundamentals"
      ],
      "metadata": {
        "id": "J2iQnVEIuB7_"
      }
    },
    {
      "cell_type": "code",
      "source": [
        "import torch\n",
        "import pandas as pd\n",
        "import numpy as np\n",
        "import matplotlib.pyplot as plt\n",
        "print(torch.__version__)"
      ],
      "metadata": {
        "colab": {
          "base_uri": "https://localhost:8080/"
        },
        "id": "UakLjd0dviMI",
        "outputId": "93677410-bf36-4a2d-872d-d6cfc3043fc8"
      },
      "execution_count": 4,
      "outputs": [
        {
          "output_type": "stream",
          "name": "stdout",
          "text": [
            "1.12.1+cu113\n"
          ]
        }
      ]
    },
    {
      "cell_type": "markdown",
      "source": [
        "###Introduction to Tensors"
      ],
      "metadata": {
        "id": "eA1KamQFwmwb"
      }
    },
    {
      "cell_type": "code",
      "source": [
        "#scalar \n",
        "scalar = torch.tensor(7)\n",
        "scalar"
      ],
      "metadata": {
        "colab": {
          "base_uri": "https://localhost:8080/"
        },
        "id": "HHDP4uVpwiev",
        "outputId": "f424a200-aa25-47d8-86fc-ae66e8fd5c36"
      },
      "execution_count": 4,
      "outputs": [
        {
          "output_type": "execute_result",
          "data": {
            "text/plain": [
              "tensor(7)"
            ]
          },
          "metadata": {},
          "execution_count": 4
        }
      ]
    },
    {
      "cell_type": "code",
      "source": [
        "scalar.ndim"
      ],
      "metadata": {
        "colab": {
          "base_uri": "https://localhost:8080/"
        },
        "id": "HnPcg1BHw2N0",
        "outputId": "e8524b8c-0dbb-4f28-ef89-a9cdce199ad1"
      },
      "execution_count": 5,
      "outputs": [
        {
          "output_type": "execute_result",
          "data": {
            "text/plain": [
              "0"
            ]
          },
          "metadata": {},
          "execution_count": 5
        }
      ]
    },
    {
      "cell_type": "code",
      "source": [
        "#vector\n",
        "vector = torch.tensor([2,4])\n",
        "vector\n"
      ],
      "metadata": {
        "colab": {
          "base_uri": "https://localhost:8080/"
        },
        "id": "PhX1cYRNw-yr",
        "outputId": "d7cd022f-b283-484b-b027-7e70bb84987e"
      },
      "execution_count": 7,
      "outputs": [
        {
          "output_type": "execute_result",
          "data": {
            "text/plain": [
              "tensor([2, 4])"
            ]
          },
          "metadata": {},
          "execution_count": 7
        }
      ]
    },
    {
      "cell_type": "code",
      "source": [
        "vector.ndim\n"
      ],
      "metadata": {
        "colab": {
          "base_uri": "https://localhost:8080/"
        },
        "id": "bhz_4brDxd1z",
        "outputId": "6445cabc-d264-4960-9456-8683e02c9b89"
      },
      "execution_count": 8,
      "outputs": [
        {
          "output_type": "execute_result",
          "data": {
            "text/plain": [
              "1"
            ]
          },
          "metadata": {},
          "execution_count": 8
        }
      ]
    },
    {
      "cell_type": "code",
      "source": [
        "vector.shape"
      ],
      "metadata": {
        "colab": {
          "base_uri": "https://localhost:8080/"
        },
        "id": "_xB00QYexiyv",
        "outputId": "0c566fab-f3c0-48f8-d274-8e008613b4a5"
      },
      "execution_count": 9,
      "outputs": [
        {
          "output_type": "execute_result",
          "data": {
            "text/plain": [
              "torch.Size([2])"
            ]
          },
          "metadata": {},
          "execution_count": 9
        }
      ]
    },
    {
      "cell_type": "code",
      "source": [
        "# matrix\n",
        "\n",
        "MATRIX = torch.tensor([[5,6],[3,5]])\n",
        "MATRIX"
      ],
      "metadata": {
        "colab": {
          "base_uri": "https://localhost:8080/"
        },
        "id": "kHS_JdJMxkF_",
        "outputId": "6922114e-a1dd-4507-d164-7c8993d52e6a"
      },
      "execution_count": 11,
      "outputs": [
        {
          "output_type": "execute_result",
          "data": {
            "text/plain": [
              "tensor([[5, 6],\n",
              "        [3, 5]])"
            ]
          },
          "metadata": {},
          "execution_count": 11
        }
      ]
    },
    {
      "cell_type": "code",
      "source": [
        "MATRIX.ndim"
      ],
      "metadata": {
        "colab": {
          "base_uri": "https://localhost:8080/"
        },
        "id": "wibXC4i3xyW9",
        "outputId": "152e9b1e-9046-43ad-d3ba-ceb82a3e131e"
      },
      "execution_count": 12,
      "outputs": [
        {
          "output_type": "execute_result",
          "data": {
            "text/plain": [
              "2"
            ]
          },
          "metadata": {},
          "execution_count": 12
        }
      ]
    },
    {
      "cell_type": "code",
      "source": [
        "MATRIX.shape"
      ],
      "metadata": {
        "colab": {
          "base_uri": "https://localhost:8080/"
        },
        "id": "jjdXNxyVx7KI",
        "outputId": "f18adf29-ce69-4e62-d883-cee3f625bce3"
      },
      "execution_count": 13,
      "outputs": [
        {
          "output_type": "execute_result",
          "data": {
            "text/plain": [
              "torch.Size([2, 2])"
            ]
          },
          "metadata": {},
          "execution_count": 13
        }
      ]
    },
    {
      "cell_type": "code",
      "source": [
        "# Tensor\n",
        "\n",
        "TENSOR = torch.tensor([[[1,2,3],[4,6,7],[4,6,9]]])\n",
        "TENSOR"
      ],
      "metadata": {
        "colab": {
          "base_uri": "https://localhost:8080/"
        },
        "id": "JOKND7IWx-NP",
        "outputId": "b67f589e-4e94-4498-9d45-9613863f556f"
      },
      "execution_count": 5,
      "outputs": [
        {
          "output_type": "execute_result",
          "data": {
            "text/plain": [
              "tensor([[[1, 2, 3],\n",
              "         [4, 6, 7],\n",
              "         [4, 6, 9]]])"
            ]
          },
          "metadata": {},
          "execution_count": 5
        }
      ]
    },
    {
      "cell_type": "code",
      "source": [
        "TENSOR.ndim"
      ],
      "metadata": {
        "colab": {
          "base_uri": "https://localhost:8080/"
        },
        "id": "AAk3OndDynfp",
        "outputId": "da948fdb-6a04-44f8-9dfe-f832e7087606"
      },
      "execution_count": 15,
      "outputs": [
        {
          "output_type": "execute_result",
          "data": {
            "text/plain": [
              "3"
            ]
          },
          "metadata": {},
          "execution_count": 15
        }
      ]
    },
    {
      "cell_type": "code",
      "source": [
        "TENSOR.shape"
      ],
      "metadata": {
        "colab": {
          "base_uri": "https://localhost:8080/"
        },
        "id": "YW7VK1WTyrhs",
        "outputId": "8292a155-0615-45e1-c9b5-64e1fc72233b"
      },
      "execution_count": 7,
      "outputs": [
        {
          "output_type": "execute_result",
          "data": {
            "text/plain": [
              "torch.Size([1, 3, 3])"
            ]
          },
          "metadata": {},
          "execution_count": 7
        }
      ]
    },
    {
      "cell_type": "code",
      "source": [
        "TENSOR[0]"
      ],
      "metadata": {
        "colab": {
          "base_uri": "https://localhost:8080/"
        },
        "id": "71if4MvlyvL-",
        "outputId": "8f9190c3-c358-420a-a700-097b90192f5a"
      },
      "execution_count": 8,
      "outputs": [
        {
          "output_type": "execute_result",
          "data": {
            "text/plain": [
              "tensor([[1, 2, 3],\n",
              "        [4, 6, 7],\n",
              "        [4, 6, 9]])"
            ]
          },
          "metadata": {},
          "execution_count": 8
        }
      ]
    },
    {
      "cell_type": "code",
      "source": [
        "## Random tensors\n",
        "random_tensor = torch.rand(3,4)\n",
        "random_tensor"
      ],
      "metadata": {
        "colab": {
          "base_uri": "https://localhost:8080/"
        },
        "id": "S3Ty6MYby3mQ",
        "outputId": "6e4afd2f-4763-4100-bd4c-2d442b5ea760"
      },
      "execution_count": 9,
      "outputs": [
        {
          "output_type": "execute_result",
          "data": {
            "text/plain": [
              "tensor([[0.8668, 0.7533, 0.1675, 0.4933],\n",
              "        [0.2585, 0.3741, 0.8929, 0.2192],\n",
              "        [0.5489, 0.2338, 0.8258, 0.4298]])"
            ]
          },
          "metadata": {},
          "execution_count": 9
        }
      ]
    },
    {
      "cell_type": "code",
      "source": [
        "random_tensor.ndim"
      ],
      "metadata": {
        "colab": {
          "base_uri": "https://localhost:8080/"
        },
        "id": "b-UzKJv-u9-e",
        "outputId": "10bb4d02-7db1-4d07-94a1-3bbe71adaaad"
      },
      "execution_count": 10,
      "outputs": [
        {
          "output_type": "execute_result",
          "data": {
            "text/plain": [
              "2"
            ]
          },
          "metadata": {},
          "execution_count": 10
        }
      ]
    },
    {
      "cell_type": "code",
      "source": [
        "random_tensor.shape"
      ],
      "metadata": {
        "colab": {
          "base_uri": "https://localhost:8080/"
        },
        "id": "2pdapNRvvJG0",
        "outputId": "9c2c1e2d-5acb-446d-bcdb-447c08abc027"
      },
      "execution_count": 11,
      "outputs": [
        {
          "output_type": "execute_result",
          "data": {
            "text/plain": [
              "torch.Size([3, 4])"
            ]
          },
          "metadata": {},
          "execution_count": 11
        }
      ]
    },
    {
      "cell_type": "code",
      "source": [
        "#create a random tensor similar to image\n",
        "\n",
        "random_image_size_tensor = torch.rand((224, 224,3),)\n",
        "random_image_size_tensor"
      ],
      "metadata": {
        "colab": {
          "base_uri": "https://localhost:8080/"
        },
        "id": "7rbmFagivNBm",
        "outputId": "185f6884-502a-4f67-d486-ac7583aee3c9"
      },
      "execution_count": 12,
      "outputs": [
        {
          "output_type": "execute_result",
          "data": {
            "text/plain": [
              "tensor([[[0.1597, 0.8245, 0.4993],\n",
              "         [0.9500, 0.7452, 0.5978],\n",
              "         [0.8879, 0.1941, 0.4694],\n",
              "         ...,\n",
              "         [0.8088, 0.1958, 0.1306],\n",
              "         [0.4623, 0.4662, 0.7673],\n",
              "         [0.3107, 0.1480, 0.7447]],\n",
              "\n",
              "        [[0.9286, 0.2868, 0.8546],\n",
              "         [0.8175, 0.2704, 0.7968],\n",
              "         [0.9499, 0.6535, 0.9768],\n",
              "         ...,\n",
              "         [0.0808, 0.3442, 0.8497],\n",
              "         [0.7285, 0.6595, 0.1981],\n",
              "         [0.0027, 0.8016, 0.8473]],\n",
              "\n",
              "        [[0.9611, 0.1946, 0.3913],\n",
              "         [0.4412, 0.1976, 0.4329],\n",
              "         [0.9928, 0.8129, 0.9355],\n",
              "         ...,\n",
              "         [0.6698, 0.0231, 0.3319],\n",
              "         [0.3002, 0.5946, 0.5379],\n",
              "         [0.2087, 0.0483, 0.9322]],\n",
              "\n",
              "        ...,\n",
              "\n",
              "        [[0.5608, 0.1876, 0.9947],\n",
              "         [0.4309, 0.8994, 0.1083],\n",
              "         [0.2809, 0.5957, 0.4491],\n",
              "         ...,\n",
              "         [0.4270, 0.9782, 0.4139],\n",
              "         [0.8270, 0.1819, 0.9650],\n",
              "         [0.4195, 0.4276, 0.5918]],\n",
              "\n",
              "        [[0.7368, 0.5477, 0.5442],\n",
              "         [0.6084, 0.0979, 0.3894],\n",
              "         [0.1522, 0.8883, 0.5318],\n",
              "         ...,\n",
              "         [0.1383, 0.1342, 0.9456],\n",
              "         [0.8622, 0.4470, 0.2279],\n",
              "         [0.7193, 0.8209, 0.6158]],\n",
              "\n",
              "        [[0.7020, 0.4438, 0.3033],\n",
              "         [0.4334, 0.0738, 0.3995],\n",
              "         [0.3123, 0.9801, 0.3878],\n",
              "         ...,\n",
              "         [0.3180, 0.8918, 0.8714],\n",
              "         [0.5974, 0.6688, 0.3466],\n",
              "         [0.1435, 0.1214, 0.5007]]])"
            ]
          },
          "metadata": {},
          "execution_count": 12
        }
      ]
    },
    {
      "cell_type": "markdown",
      "source": [
        "Zeros and ones\n",
        "\n"
      ],
      "metadata": {
        "id": "QAf2cK0hwx1W"
      }
    },
    {
      "cell_type": "code",
      "source": [
        "Zeros and ones"
      ],
      "metadata": {
        "id": "DTL9o6jjwf3V"
      },
      "execution_count": null,
      "outputs": []
    },
    {
      "cell_type": "code",
      "source": [
        "zeros = torch.zeros((3,4))\n",
        "zeros"
      ],
      "metadata": {
        "colab": {
          "base_uri": "https://localhost:8080/"
        },
        "id": "-Unaf1kiw1FB",
        "outputId": "f59375ec-716c-4505-9e92-843a935eb110"
      },
      "execution_count": 15,
      "outputs": [
        {
          "output_type": "execute_result",
          "data": {
            "text/plain": [
              "tensor([[0., 0., 0., 0.],\n",
              "        [0., 0., 0., 0.],\n",
              "        [0., 0., 0., 0.]])"
            ]
          },
          "metadata": {},
          "execution_count": 15
        }
      ]
    },
    {
      "cell_type": "code",
      "source": [
        "ones = torch.ones((3,4))\n",
        "ones"
      ],
      "metadata": {
        "colab": {
          "base_uri": "https://localhost:8080/"
        },
        "id": "mbTDgFzZxCHN",
        "outputId": "dfe85964-011d-4263-ba87-4bd29c104800"
      },
      "execution_count": 17,
      "outputs": [
        {
          "output_type": "execute_result",
          "data": {
            "text/plain": [
              "tensor([[1., 1., 1., 1.],\n",
              "        [1., 1., 1., 1.],\n",
              "        [1., 1., 1., 1.]])"
            ]
          },
          "metadata": {},
          "execution_count": 17
        }
      ]
    },
    {
      "cell_type": "markdown",
      "source": [
        "### Creating a range tensor and tensors-like"
      ],
      "metadata": {
        "id": "45JO6m3VxOWA"
      }
    },
    {
      "cell_type": "code",
      "source": [
        "torch.arange((1,11))\n"
      ],
      "metadata": {
        "colab": {
          "base_uri": "https://localhost:8080/"
        },
        "id": "3c4j7CW_yCMp",
        "outputId": "0c192871-1787-4dc9-8557-70eb0c9f1e4d"
      },
      "execution_count": 18,
      "outputs": [
        {
          "output_type": "execute_result",
          "data": {
            "text/plain": [
              "tensor([ 1,  2,  3,  4,  5,  6,  7,  8,  9, 10])"
            ]
          },
          "metadata": {},
          "execution_count": 18
        }
      ]
    },
    {
      "cell_type": "markdown",
      "source": [
        "### Manipulating Tensor (tensor operations)\n"
      ],
      "metadata": {
        "id": "hgRMkyUayMcn"
      }
    },
    {
      "cell_type": "markdown",
      "source": [
        "Addition\n"
      ],
      "metadata": {
        "id": "uUz2V4r479Cp"
      }
    },
    {
      "cell_type": "code",
      "source": [
        "tensor = torch.tensor([9,7,7])\n",
        "tensor + 10\n"
      ],
      "metadata": {
        "colab": {
          "base_uri": "https://localhost:8080/"
        },
        "id": "3lk7mX9577Ee",
        "outputId": "1bbcdeb6-17e5-47dc-be3f-9a9bfeab25a9"
      },
      "execution_count": 5,
      "outputs": [
        {
          "output_type": "execute_result",
          "data": {
            "text/plain": [
              "tensor([19, 17, 17])"
            ]
          },
          "metadata": {},
          "execution_count": 5
        }
      ]
    },
    {
      "cell_type": "code",
      "source": [
        "tensor.add(10)"
      ],
      "metadata": {
        "colab": {
          "base_uri": "https://localhost:8080/"
        },
        "id": "HTTmzs5Y8veI",
        "outputId": "3ae6c108-14f9-46a2-c628-a35d25b887be"
      },
      "execution_count": 6,
      "outputs": [
        {
          "output_type": "execute_result",
          "data": {
            "text/plain": [
              "tensor([19, 17, 17])"
            ]
          },
          "metadata": {},
          "execution_count": 6
        }
      ]
    },
    {
      "cell_type": "markdown",
      "source": [
        "Subtraction"
      ],
      "metadata": {
        "id": "e0yyZa_c8VOW"
      }
    },
    {
      "cell_type": "code",
      "source": [
        "tensor - 10"
      ],
      "metadata": {
        "colab": {
          "base_uri": "https://localhost:8080/"
        },
        "id": "D8Erb0jE8TZJ",
        "outputId": "81849502-6b56-44ea-a2ad-c5d0bd4dac0e"
      },
      "execution_count": 3,
      "outputs": [
        {
          "output_type": "execute_result",
          "data": {
            "text/plain": [
              "tensor([-1, -3, -3])"
            ]
          },
          "metadata": {},
          "execution_count": 3
        }
      ]
    },
    {
      "cell_type": "code",
      "source": [
        "tensor.subtract(10)"
      ],
      "metadata": {
        "colab": {
          "base_uri": "https://localhost:8080/"
        },
        "id": "J7YqQSbc8yX7",
        "outputId": "9cf7131e-e7d1-4ae8-970a-37ce5450c129"
      },
      "execution_count": 9,
      "outputs": [
        {
          "output_type": "execute_result",
          "data": {
            "text/plain": [
              "tensor([-1, -3, -3])"
            ]
          },
          "metadata": {},
          "execution_count": 9
        }
      ]
    },
    {
      "cell_type": "markdown",
      "source": [
        "Multiplication"
      ],
      "metadata": {
        "id": "JdbeA8Jx8gFv"
      }
    },
    {
      "cell_type": "code",
      "source": [
        "tensor * 10"
      ],
      "metadata": {
        "colab": {
          "base_uri": "https://localhost:8080/"
        },
        "id": "luUY0KkT8bX5",
        "outputId": "fa5869ef-0842-44ed-d69f-464a55ffcdef"
      },
      "execution_count": 10,
      "outputs": [
        {
          "output_type": "execute_result",
          "data": {
            "text/plain": [
              "tensor([90, 70, 70])"
            ]
          },
          "metadata": {},
          "execution_count": 10
        }
      ]
    },
    {
      "cell_type": "code",
      "source": [
        "tensor.mul(10)"
      ],
      "metadata": {
        "colab": {
          "base_uri": "https://localhost:8080/"
        },
        "id": "SCZYCdhK9ELh",
        "outputId": "98238ec9-c7d7-4d36-ea51-1b45c36bab3b"
      },
      "execution_count": 11,
      "outputs": [
        {
          "output_type": "execute_result",
          "data": {
            "text/plain": [
              "tensor([90, 70, 70])"
            ]
          },
          "metadata": {},
          "execution_count": 11
        }
      ]
    },
    {
      "cell_type": "markdown",
      "source": [
        "Division"
      ],
      "metadata": {
        "id": "IcLf4E7w9PTg"
      }
    },
    {
      "cell_type": "code",
      "source": [
        "tensor/3"
      ],
      "metadata": {
        "colab": {
          "base_uri": "https://localhost:8080/"
        },
        "id": "zLWDxomY9Ia3",
        "outputId": "e2e07e26-35aa-4202-ebb0-71e630251e74"
      },
      "execution_count": 12,
      "outputs": [
        {
          "output_type": "execute_result",
          "data": {
            "text/plain": [
              "tensor([3.0000, 2.3333, 2.3333])"
            ]
          },
          "metadata": {},
          "execution_count": 12
        }
      ]
    },
    {
      "cell_type": "code",
      "source": [
        "tensor.div(3)"
      ],
      "metadata": {
        "colab": {
          "base_uri": "https://localhost:8080/"
        },
        "id": "yJDEq_mj9Tg6",
        "outputId": "a06a1dee-9e6e-4789-dabd-a6fb77f4e6bc"
      },
      "execution_count": 13,
      "outputs": [
        {
          "output_type": "execute_result",
          "data": {
            "text/plain": [
              "tensor([3.0000, 2.3333, 2.3333])"
            ]
          },
          "metadata": {},
          "execution_count": 13
        }
      ]
    },
    {
      "cell_type": "markdown",
      "source": [
        "Matrix multiplication\n",
        "\n",
        "    1.Element-wise multiplication \n",
        "    2. matrix multiplication"
      ],
      "metadata": {
        "id": "skpxVNbg9al0"
      }
    },
    {
      "cell_type": "markdown",
      "source": [
        "Element-wise multiplication\n"
      ],
      "metadata": {
        "id": "eiQeMtJyBOc6"
      }
    },
    {
      "cell_type": "code",
      "source": [
        "tensor = torch.tensor([2,3,4])"
      ],
      "metadata": {
        "id": "M2SCROwBBuR_"
      },
      "execution_count": 5,
      "outputs": []
    },
    {
      "cell_type": "code",
      "source": [
        "print(tensor, '*', tensor)\n",
        "print(f\"Equals: {tensor * tensor}\")"
      ],
      "metadata": {
        "colab": {
          "base_uri": "https://localhost:8080/"
        },
        "id": "ym3BdNokBO_O",
        "outputId": "a7660b95-a60e-423a-fe37-850bb58659d4"
      },
      "execution_count": 8,
      "outputs": [
        {
          "output_type": "stream",
          "name": "stdout",
          "text": [
            "tensor([2, 3, 4]) * tensor([2, 3, 4])\n",
            "Equals: tensor([ 4,  9, 16])\n"
          ]
        }
      ]
    },
    {
      "cell_type": "markdown",
      "source": [
        "Matrix multiplication"
      ],
      "metadata": {
        "id": "1M6hCBDeBIl7"
      }
    },
    {
      "cell_type": "code",
      "source": [
        "ten_matrix = torch.matmul(tensor, tensor)\n",
        "ten_matrix"
      ],
      "metadata": {
        "colab": {
          "base_uri": "https://localhost:8080/"
        },
        "id": "VW0kInQw9YT6",
        "outputId": "657a4843-594c-4a5c-a33d-c96b803ea690"
      },
      "execution_count": 9,
      "outputs": [
        {
          "output_type": "execute_result",
          "data": {
            "text/plain": [
              "tensor(29)"
            ]
          },
          "metadata": {},
          "execution_count": 9
        }
      ]
    },
    {
      "cell_type": "code",
      "source": [
        "tensor @ tensor"
      ],
      "metadata": {
        "colab": {
          "base_uri": "https://localhost:8080/"
        },
        "id": "ZLEESn8RBBxw",
        "outputId": "0034ee96-ce66-4427-b3e2-2ccefd2f12c5"
      },
      "execution_count": 10,
      "outputs": [
        {
          "output_type": "execute_result",
          "data": {
            "text/plain": [
              "tensor(29)"
            ]
          },
          "metadata": {},
          "execution_count": 10
        }
      ]
    },
    {
      "cell_type": "markdown",
      "source": [
        "###Tensor Aggregation(min, max, mean, sum, etc)"
      ],
      "metadata": {
        "id": "OFGYtZU0HPT5"
      }
    },
    {
      "cell_type": "code",
      "source": [
        "# create a tensor\n",
        "\n",
        "x = torch.arange(0,100,10)\n",
        "x"
      ],
      "metadata": {
        "colab": {
          "base_uri": "https://localhost:8080/"
        },
        "id": "QoTdVOuEDoEp",
        "outputId": "9d4e0a8d-2570-435a-a0aa-989e42ccfa04"
      },
      "execution_count": 13,
      "outputs": [
        {
          "output_type": "execute_result",
          "data": {
            "text/plain": [
              "tensor([ 0, 10, 20, 30, 40, 50, 60, 70, 80, 90])"
            ]
          },
          "metadata": {},
          "execution_count": 13
        }
      ]
    },
    {
      "cell_type": "code",
      "source": [
        "# Finding the min\n",
        "\n",
        "torch.min(x), x.min()"
      ],
      "metadata": {
        "colab": {
          "base_uri": "https://localhost:8080/"
        },
        "id": "yw5KjoHHMgXc",
        "outputId": "2c1fcc7d-1be7-41bb-b0d3-5969575d38f1"
      },
      "execution_count": 16,
      "outputs": [
        {
          "output_type": "execute_result",
          "data": {
            "text/plain": [
              "(tensor(0), tensor(0))"
            ]
          },
          "metadata": {},
          "execution_count": 16
        }
      ]
    },
    {
      "cell_type": "code",
      "source": [
        "# Finding the max\n",
        "torch.max(x), x.max()"
      ],
      "metadata": {
        "colab": {
          "base_uri": "https://localhost:8080/"
        },
        "id": "9SEnrR_8MlPY",
        "outputId": "0c549f6e-af9f-4943-902e-748f68d40c43"
      },
      "execution_count": 17,
      "outputs": [
        {
          "output_type": "execute_result",
          "data": {
            "text/plain": [
              "(tensor(90), tensor(90))"
            ]
          },
          "metadata": {},
          "execution_count": 17
        }
      ]
    },
    {
      "cell_type": "code",
      "source": [
        "#finding the mean\n",
        "\n",
        "torch.mean(x.type(torch.float32)), x.type(torch.float32).mean()"
      ],
      "metadata": {
        "colab": {
          "base_uri": "https://localhost:8080/"
        },
        "id": "DIqhmEQDMq4U",
        "outputId": "82eaae25-8d4c-4bf8-d7fc-a2346972c59d"
      },
      "execution_count": 18,
      "outputs": [
        {
          "output_type": "execute_result",
          "data": {
            "text/plain": [
              "(tensor(45.), tensor(45.))"
            ]
          },
          "metadata": {},
          "execution_count": 18
        }
      ]
    },
    {
      "cell_type": "code",
      "source": [
        "# finding the sum\n",
        "torch.sum(x), x.sum()"
      ],
      "metadata": {
        "colab": {
          "base_uri": "https://localhost:8080/"
        },
        "id": "D2la8HOZNlOI",
        "outputId": "9197a68a-c75e-4385-aeda-7d5ce54a16d5"
      },
      "execution_count": 20,
      "outputs": [
        {
          "output_type": "execute_result",
          "data": {
            "text/plain": [
              "(tensor(450), tensor(450))"
            ]
          },
          "metadata": {},
          "execution_count": 20
        }
      ]
    },
    {
      "cell_type": "markdown",
      "source": [
        "### Finding the positional min and max"
      ],
      "metadata": {
        "id": "tm-8_wXdODje"
      }
    },
    {
      "cell_type": "code",
      "source": [
        "x.argmin()"
      ],
      "metadata": {
        "colab": {
          "base_uri": "https://localhost:8080/"
        },
        "id": "KQkfwr0BNtdI",
        "outputId": "b6722200-c9a3-4aa3-fdc0-6df411e1930c"
      },
      "execution_count": 23,
      "outputs": [
        {
          "output_type": "execute_result",
          "data": {
            "text/plain": [
              "tensor(0)"
            ]
          },
          "metadata": {},
          "execution_count": 23
        }
      ]
    },
    {
      "cell_type": "code",
      "source": [
        "x.argmax()"
      ],
      "metadata": {
        "colab": {
          "base_uri": "https://localhost:8080/"
        },
        "id": "AlZlWdyyORcI",
        "outputId": "bc68eb8f-5808-47da-d995-bfe83b74e67a"
      },
      "execution_count": 24,
      "outputs": [
        {
          "output_type": "execute_result",
          "data": {
            "text/plain": [
              "tensor(9)"
            ]
          },
          "metadata": {},
          "execution_count": 24
        }
      ]
    },
    {
      "cell_type": "code",
      "source": [
        ""
      ],
      "metadata": {
        "id": "BxuZ4qoWOa04"
      },
      "execution_count": null,
      "outputs": []
    }
  ]
}